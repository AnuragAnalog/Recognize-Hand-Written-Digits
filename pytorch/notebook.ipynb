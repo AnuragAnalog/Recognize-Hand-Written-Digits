{
 "cells": [
  {
   "cell_type": "code",
   "execution_count": 1,
   "metadata": {},
   "outputs": [],
   "source": [
    "# Importing all the required modules\n",
    "%matplotlib inline\n",
    "%config InlineBackend.figure_format = 'retina'\n",
    "\n",
    "import torch\n",
    "import torch.nn.functional as F\n",
    "from torch import nn,optim\n",
    "from torchvision import datasets, transforms\n",
    "\n",
    "from matplotlib import pyplot as plt"
   ]
  },
  {
   "cell_type": "code",
   "execution_count": 2,
   "metadata": {},
   "outputs": [],
   "source": [
    "# Defining the transforms\n",
    "transform = transforms.Compose([\n",
    "    transforms.ToTensor(),\n",
    "    transforms.Normalize((0.5,), (0.5,))\n",
    "])\n",
    "\n",
    "# Load training and testing data\n",
    "train = datasets.MNIST('./data', download=True, train=True, transform=transform)\n",
    "trainloader = torch.utils.data.DataLoader(train, batch_size=64, shuffle=True)\n",
    "\n",
    "test = datasets.MNIST('./data', download=True, train=False, transform=transform)\n",
    "testloader = torch.utils.data.DataLoader(test, batch_size=64, shuffle=True)"
   ]
  },
  {
   "cell_type": "code",
   "execution_count": 3,
   "metadata": {},
   "outputs": [
    {
     "name": "stdout",
     "output_type": "stream",
     "text": [
      "Classifier(\n",
      "  (fc1): Linear(in_features=784, out_features=512, bias=True)\n",
      "  (fc2): Linear(in_features=512, out_features=256, bias=True)\n",
      "  (fc3): Linear(in_features=256, out_features=128, bias=True)\n",
      "  (fc4): Linear(in_features=128, out_features=10, bias=True)\n",
      "  (dropout): Dropout(p=0.2, inplace=False)\n",
      ")\n"
     ]
    }
   ],
   "source": [
    "# Defining the model\n",
    "class Classifier(nn.Module):\n",
    "    def __init__(self):\n",
    "        super(Classifier, self).__init__()\n",
    "        \n",
    "        self.fc1 = nn.Linear(784, 512)\n",
    "        self.fc2 = nn.Linear(512, 256)\n",
    "        self.fc3 = nn.Linear(256, 128)\n",
    "        self.fc4 = nn.Linear(128, 10)\n",
    "        \n",
    "        self.dropout = nn.Dropout(p=0.2)\n",
    "\n",
    "    def forward(self, x):\n",
    "        x = x.view(x.shape[0], -1)\n",
    "        \n",
    "        x = self.dropout(F.relu(self.fc1(x)))\n",
    "        x = self.dropout(F.relu(self.fc2(x)))\n",
    "        x = self.dropout(F.log_softmax(self.fc3(x), dim=1))\n",
    "        \n",
    "        return x\n",
    "\n",
    "model = Classifier()\n",
    "print(model)"
   ]
  },
  {
   "cell_type": "code",
   "execution_count": 4,
   "metadata": {},
   "outputs": [],
   "source": [
    "# Defining the optimizer and the Loss function\n",
    "optimizer = optim.SGD(model.parameters(), lr=0.03)\n",
    "criterion = nn.NLLLoss()"
   ]
  },
  {
   "cell_type": "code",
   "execution_count": 5,
   "metadata": {},
   "outputs": [
    {
     "name": "stdout",
     "output_type": "stream",
     "text": [
      "Epochs: 1/10.. Training Loss: 0.678727.. Testing Loss: 0.309329.. Accuracy: 91.023087\n",
      "\n",
      "Epochs: 2/10.. Training Loss: 0.301686.. Testing Loss: 0.224371.. Accuracy: 92.904060\n",
      "\n",
      "Epochs: 3/10.. Training Loss: 0.232194.. Testing Loss: 0.173157.. Accuracy: 94.685509\n",
      "\n",
      "Epochs: 4/10.. Training Loss: 0.188868.. Testing Loss: 0.153007.. Accuracy: 95.461784\n",
      "\n",
      "Epochs: 5/10.. Training Loss: 0.159706.. Testing Loss: 0.129778.. Accuracy: 96.098724\n",
      "\n",
      "Epochs: 6/10.. Training Loss: 0.141604.. Testing Loss: 0.114723.. Accuracy: 96.307724\n",
      "\n",
      "Epochs: 7/10.. Training Loss: 0.124525.. Testing Loss: 0.103058.. Accuracy: 96.755577\n",
      "\n",
      "Epochs: 8/10.. Training Loss: 0.111707.. Testing Loss: 0.092341.. Accuracy: 97.084000\n",
      "\n",
      "Epochs: 9/10.. Training Loss: 0.101672.. Testing Loss: 0.091815.. Accuracy: 97.034233\n",
      "\n",
      "Epochs: 10/10.. Training Loss: 0.091900.. Testing Loss: 0.085117.. Accuracy: 97.273087\n",
      "\n"
     ]
    }
   ],
   "source": [
    "epochs = 10\n",
    "training_loss, testing_loss = [], []\n",
    "\n",
    "for e in range(epochs):\n",
    "    running_loss = 0\n",
    "    for image, label in trainloader:\n",
    "        optimizer.zero_grad()\n",
    "        \n",
    "        output = model.forward(image)\n",
    "        loss = criterion(output, label)\n",
    "        loss.backward()\n",
    "        \n",
    "        optimizer.step()\n",
    "        \n",
    "        running_loss += loss.item()\n",
    "    else:\n",
    "        test_loss = 0\n",
    "        accuracy = 0\n",
    "        \n",
    "        with torch.no_grad():\n",
    "            model.eval()         # Disabling dropouts for validation\n",
    "\n",
    "            for image, label in testloader:\n",
    "                output = model.forward(image)\n",
    "                test_loss += criterion(output, label)\n",
    "                \n",
    "                ps = torch.exp(output)\n",
    "                top, top_class = ps.topk(1, dim=1)\n",
    "                equals = (top_class == label.view(top_class.shape))\n",
    "                \n",
    "                accuracy += torch.mean(equals.type(torch.FloatTensor))\n",
    "\n",
    "        model.train()           # Getting back to training parameters\n",
    "        \n",
    "    training_loss.append(running_loss/len(trainloader))\n",
    "    testing_loss.append(test_loss/len(testloader))\n",
    "    print(f\"Epochs: {e+1}/{epochs}.. Training Loss: {running_loss/len(trainloader):3f}.. Testing Loss: {test_loss/len(testloader):3f}.. Accuracy: {accuracy/len(testloader)*100:3f}\\n\")"
   ]
  },
  {
   "cell_type": "code",
   "execution_count": 6,
   "metadata": {},
   "outputs": [
    {
     "data": {
      "text/plain": [
       "<matplotlib.legend.Legend at 0x7f0ad6aa6c88>"
      ]
     },
     "execution_count": 6,
     "metadata": {},
     "output_type": "execute_result"
    },
    {
     "data": {
      "image/png": "[encoded data removed]",
      "text/plain": [
       "<Figure size 432x288 with 1 Axes>"
      ]
     },
     "metadata": {
      "image/png": {
       "height": 262,
       "width": 385
      },
      "needs_background": "light"
     },
     "output_type": "display_data"
    }
   ],
   "source": [
    "# Plotting Loss vs Epochs\n",
    "\n",
    "plt.xlabel(\"Epochs\")\n",
    "plt.ylabel(\"Loss\")\n",
    "\n",
    "plt.plot(training_loss, label=\"Training Loss\")\n",
    "plt.plot(testing_loss, label=\"Testing Loss\")\n",
    "plt.legend(frameon=False)"
   ]
  },
  {
   "cell_type": "code",
   "execution_count": null,
   "metadata": {},
   "outputs": [],
   "source": []
  }
 ],
 "metadata": {
  "kernelspec": {
   "display_name": "Python 3",
   "language": "python",
   "name": "python3"
  },
  "language_info": {
   "codemirror_mode": {
    "name": "ipython",
    "version": 3
   },
   "file_extension": ".py",
   "mimetype": "text/x-python",
   "name": "python",
   "nbconvert_exporter": "python",
   "pygments_lexer": "ipython3",
   "version": "3.6.9"
  }
 },
 "nbformat": 4,
 "nbformat_minor": 2
}
