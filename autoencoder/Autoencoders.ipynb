{
  "nbformat": 4,
  "nbformat_minor": 0,
  "metadata": {
    "kernelspec": {
      "display_name": "Python 3",
      "language": "python",
      "name": "python3"
    },
    "language_info": {
      "codemirror_mode": {
        "name": "ipython",
        "version": 3
      },
      "file_extension": ".py",
      "mimetype": "text/x-python",
      "name": "python",
      "nbconvert_exporter": "python",
      "pygments_lexer": "ipython3",
      "version": "3.6.9"
    },
    "colab": {
      "name": "Autoencoders.ipynb",
      "provenance": [],
      "collapsed_sections": []
    }
  },
  "cells": [
    {
      "cell_type": "markdown",
      "metadata": {
        "id": "xanTKm45qIw2",
        "colab_type": "text"
      },
      "source": [
        "# Autoencoders"
      ]
    },
    {
      "cell_type": "code",
      "metadata": {
        "id": "o_L2tVLtqIw7",
        "colab_type": "code",
        "colab": {}
      },
      "source": [
        "# Required Modules\n",
        "\n",
        "import torch\n",
        "import torch.nn.functional as F\n",
        "from torch import nn, optim\n",
        "from torchvision import datasets, transforms\n",
        "\n",
        "from matplotlib import pyplot as plt\n",
        "\n",
        "%matplotlib inline"
      ],
      "execution_count": 0,
      "outputs": []
    },
    {
      "cell_type": "code",
      "metadata": {
        "id": "zoT-JLcMqIxI",
        "colab_type": "code",
        "colab": {}
      },
      "source": [
        "# Applying some transformations like normalization.\n",
        "\n",
        "transform = transforms.Compose([transforms.ToTensor(),\n",
        "                               transforms.Normalize((0.5,),(0.5,))])"
      ],
      "execution_count": 0,
      "outputs": []
    },
    {
      "cell_type": "code",
      "metadata": {
        "id": "ggsbgc-gqIxW",
        "colab_type": "code",
        "colab": {}
      },
      "source": [
        "# Downloading the training and testing datasets\n",
        "\n",
        "train = datasets.MNIST('./data', download=True, train=True, transform=transform)\n",
        "test = datasets.MNIST('./data', download=True, train=False, transform=transform)"
      ],
      "execution_count": 0,
      "outputs": []
    },
    {
      "cell_type": "code",
      "metadata": {
        "id": "ZLO8pxA2qIxg",
        "colab_type": "code",
        "colab": {}
      },
      "source": [
        "# Converting the downloaded datasets into iterators\n",
        "\n",
        "trainloader = torch.utils.data.DataLoader(train, batch_size=64, shuffle=True)\n",
        "testloader = torch.utils.data.DataLoader(test, batch_size=64, shuffle=True)"
      ],
      "execution_count": 0,
      "outputs": []
    },
    {
      "cell_type": "code",
      "metadata": {
        "id": "b8mzYbtiqIxo",
        "colab_type": "code",
        "colab": {
          "base_uri": "https://localhost:8080/",
          "height": 260
        },
        "outputId": "6d7a5d5b-e784-474f-ba51-d5b5721cd2d5"
      },
      "source": [
        "# Defining the autoencoder as a class\n",
        "\n",
        "class autoencoder(nn.Module):\n",
        "    def __init__(self):\n",
        "        super().__init__()\n",
        "        \n",
        "        self.encoder = nn.Sequential(\n",
        "            nn.Conv2d(1, 6, kernel_size=5),\n",
        "            nn.ReLU(True),\n",
        "            nn.Conv2d(6, 16, kernel_size=3),\n",
        "            nn.ReLU(True)\n",
        "        )\n",
        "        self.decoder = nn.Sequential(\n",
        "            nn.ConvTranspose2d(16, 6, kernel_size=5),\n",
        "            nn.ReLU(True),\n",
        "            nn.ConvTranspose2d(6, 1, kernel_size=3),\n",
        "            nn.ReLU(True)\n",
        "        )\n",
        "        \n",
        "    def forward(self, x):\n",
        "        x = self.encoder(x)\n",
        "        x = self.decoder(x)\n",
        "        \n",
        "        return x\n",
        "    \n",
        "model = autoencoder()\n",
        "print(model)"
      ],
      "execution_count": 17,
      "outputs": [
        {
          "output_type": "stream",
          "text": [
            "autoencoder(\n",
            "  (encoder): Sequential(\n",
            "    (0): Conv2d(1, 6, kernel_size=(5, 5), stride=(1, 1))\n",
            "    (1): ReLU(inplace=True)\n",
            "    (2): Conv2d(6, 16, kernel_size=(3, 3), stride=(1, 1))\n",
            "    (3): ReLU(inplace=True)\n",
            "  )\n",
            "  (decoder): Sequential(\n",
            "    (0): ConvTranspose2d(16, 6, kernel_size=(5, 5), stride=(1, 1))\n",
            "    (1): ReLU(inplace=True)\n",
            "    (2): ConvTranspose2d(6, 1, kernel_size=(3, 3), stride=(1, 1))\n",
            "    (3): ReLU(inplace=True)\n",
            "  )\n",
            ")\n"
          ],
          "name": "stdout"
        }
      ]
    },
    {
      "cell_type": "code",
      "metadata": {
        "id": "zm5XURumqIxy",
        "colab_type": "code",
        "colab": {}
      },
      "source": [
        "# Defining optimizer and loss function\n",
        "\n",
        "optimizer = optim.SGD(model.parameters(), lr=0.1)\n",
        "criterion = nn.MSELoss()"
      ],
      "execution_count": 0,
      "outputs": []
    },
    {
      "cell_type": "code",
      "metadata": {
        "id": "wZgK6InmqIx5",
        "colab_type": "code",
        "colab": {
          "base_uri": "https://localhost:8080/",
          "height": 191
        },
        "outputId": "55518a46-2783-46c6-9202-ec529ca9dad8"
      },
      "source": [
        "epochs = 10\n",
        "training_loss, testing_loss = [], []\n",
        "\n",
        "for e in range(epochs):\n",
        "    running_loss = 0\n",
        "    for image, _ in trainloader:\n",
        "        optimizer.zero_grad()\n",
        "        \n",
        "        output = model.forward(image)\n",
        "        loss = criterion(output, image)\n",
        "        loss.backward()\n",
        "        optimizer.step()\n",
        "        \n",
        "        running_loss += loss.item()\n",
        "        \n",
        "    test_loss = 0\n",
        "    accuracy = 0\n",
        "    for image, _ in testloader:\n",
        "        output = model.forward(image)\n",
        "        test_loss += criterion(output, image)\n",
        "    \n",
        "    training_loss.append(running_loss/len(trainloader))\n",
        "    testing_loss.append(test_loss/len(testloader))\n",
        "    \n",
        "    print(\"Epochs {}/{} Training loss: {:6f}.. Testing loss: {:6f}\".format(e+1, epochs, training_loss[e], testing_loss[e]))"
      ],
      "execution_count": 19,
      "outputs": [
        {
          "output_type": "stream",
          "text": [
            "Epochs 1/10 Training loss: 0.925589.. Testing loss: 0.925774\n",
            "Epochs 2/10 Training loss: 0.925365.. Testing loss: 0.925770\n",
            "Epochs 3/10 Training loss: 0.925369.. Testing loss: 0.925770\n",
            "Epochs 4/10 Training loss: 0.925370.. Testing loss: 0.925775\n",
            "Epochs 5/10 Training loss: 0.925369.. Testing loss: 0.925777\n",
            "Epochs 6/10 Training loss: 0.925370.. Testing loss: 0.925784\n",
            "Epochs 7/10 Training loss: 0.925368.. Testing loss: 0.925794\n",
            "Epochs 8/10 Training loss: 0.925367.. Testing loss: 0.925769\n",
            "Epochs 9/10 Training loss: 0.925368.. Testing loss: 0.925766\n",
            "Epochs 10/10 Training loss: 0.925367.. Testing loss: 0.925816\n"
          ],
          "name": "stdout"
        }
      ]
    },
    {
      "cell_type": "code",
      "metadata": {
        "id": "1AJmWSHiqIx_",
        "colab_type": "code",
        "colab": {
          "base_uri": "https://localhost:8080/",
          "height": 312
        },
        "outputId": "ec2223a8-792e-4774-95a2-4222ac091e2e"
      },
      "source": [
        "# Plotting Training vs Testing loss values\n",
        "\n",
        "x_axis = range(1, epochs+1)\n",
        "\n",
        "_, ax = plt.subplots()\n",
        "ax.plot(x_axis, training_loss, label=\"Training Loss\")\n",
        "ax.plot(x_axis, testing_loss, label=\"Testing Loss\")\n",
        "\n",
        "ax.set_title(\"Epochs vs Losses\")\n",
        "ax.set_xlabel(\"Epochs\")\n",
        "ax.set_ylabel(\"Loss\")\n",
        "ax.legend()"
      ],
      "execution_count": 21,
      "outputs": [
        {
          "output_type": "execute_result",
          "data": {
            "text/plain": [
              "<matplotlib.legend.Legend at 0x7f93d0303a90>"
            ]
          },
          "metadata": {
            "tags": []
          },
          "execution_count": 21
        },
        {
          "output_type": "display_data",
          "data": {
            "image/png": "[encoded data removed]",
            "text/plain": [
              "<Figure size 432x288 with 1 Axes>"
            ]
          },
          "metadata": {
            "tags": [],
            "needs_background": "light"
          }
        }
      ]
    }
  ]
}